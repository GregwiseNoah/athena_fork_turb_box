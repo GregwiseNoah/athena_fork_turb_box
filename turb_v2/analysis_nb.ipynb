{
 "cells": [
  {
   "cell_type": "markdown",
   "source": [
    "# Definitions"
   ],
   "metadata": {}
  },
  {
   "cell_type": "markdown",
   "source": [
    "## Import packages"
   ],
   "metadata": {}
  },
  {
   "cell_type": "code",
   "execution_count": 7,
   "source": [
    "import numpy as np\n",
    "from matplotlib import pyplot as plt\n",
    "import yt\n",
    "\n",
    "import athena_read as ar\n",
    "\n",
    "# import seaborn as sns\n",
    "\n",
    "plt.style.use('../plot_scripts/plot_style.mplstyle')\n",
    "\n",
    "# import para_scan as ps\n",
    "# import v_turb as vt\n",
    "# import tgrow as tg"
   ],
   "outputs": [],
   "metadata": {}
  },
  {
   "cell_type": "markdown",
   "source": [
    "## Class hst_data definitions"
   ],
   "metadata": {}
  },
  {
   "cell_type": "code",
   "execution_count": 3,
   "source": [
    "class hst_data:\n",
    "\n",
    "    def __init__(self, fn, ncells, MHD_flag=False):\n",
    "\n",
    "        \"\"\"Read hst and return structured numpy dict.\n",
    "        Keyword Arguments:\n",
    "        fn -- \n",
    "        \"\"\"\n",
    "\n",
    "        hdr = []\n",
    "        with open(fn, 'r') as fp:\n",
    "            while True:\n",
    "                l = fp.readline()\n",
    "                if l[0] != '#':\n",
    "                    raise Exception(\"No header in %s found!\" %(fn))\n",
    "                if '[1]' in l:\n",
    "                    hdr = [i.split(\"=\")[1].strip() for i in l[1:].split(\"[\") if ']' in i]\n",
    "                    break\n",
    "\n",
    "        r = np.loadtxt(fn, dtype={'names' : hdr, 'formats' : len(hdr) * (float,)})\n",
    "\n",
    "        self.dict = r\n",
    "\n",
    "        self.time  = self.dict['time']\n",
    "        self.dt    = self.dict['dt']\n",
    "\n",
    "        self.mass_tot  = self.dict['mass']\n",
    "\n",
    "        self.mom1  = self.dict['1-mom']\n",
    "        self.mom2  = self.dict['2-mom']\n",
    "        self.mom3  = self.dict['3-mom']\n",
    "\n",
    "        self.KE1   = self.dict['1-KE']\n",
    "        self.KE2   = self.dict['2-KE']\n",
    "        self.KE3   = self.dict['3-KE']\n",
    "        self.E_tot = self.dict['tot-E']\n",
    "\n",
    "        self.cold_gas = self.dict['cold_gas']\n",
    "\n",
    "        self.rho_avg    = self.dict['rho_sum']/ncells\n",
    "        self.rho_sq_avg = self.dict['rho_sq_sum']/ncells\n",
    "\n",
    "        self.cs_avg    = self.dict['c_s_sum']/ncells\n",
    "        self.tcool_avg = self.dict['tcool_sum']/ncells\n",
    "\n",
    "        if MHD_flag:\n",
    "\n",
    "            self.Pth_avg = self.dict['Pth_sum']/ncells\n",
    "            self.PB_avg  = self.dict['PB_sum']/ncells\n",
    "            self.Bx_avg  = self.dict['Bx_sum']/ncells\n",
    "            self.By_avg  = self.dict['By_sum']/ncells\n",
    "            self.Bz_avg  = self.dict['Bz_sum']/ncells\n",
    "\n",
    "            self.B_abs_avg = np.sqrt(self.PB_avg*2)\n",
    "            self.dB = np.roll(self.B_abs_avg,-1) - self.B_abs_avg\n",
    "            self.dt = self.time[1] - self.time[0]\n",
    "\n",
    "\n",
    "        self.KE_tot = self.KE1+self.KE2+self.KE3\n",
    "        self.turb_vel = np.sqrt(self.KE_tot*2/self.mass_tot)\n",
    "\n",
    "        self.clumping_factor = self.rho_sq_avg/self.rho_avg**2\n",
    "        self.cold_gas_fraction = self.cold_gas/self.mass_tot\n",
    "\n",
    "        \n",
    "\n",
    "        \n",
    "        "
   ],
   "outputs": [],
   "metadata": {}
  },
  {
   "cell_type": "code",
   "execution_count": 13,
   "source": [
    "fn = \"test/Turb_stir.cons.00000.athdf\"\n",
    "\n",
    "data = ar.athdf(fn)"
   ],
   "outputs": [],
   "metadata": {}
  },
  {
   "cell_type": "code",
   "execution_count": null,
   "source": [],
   "outputs": [],
   "metadata": {}
  }
 ],
 "metadata": {
  "kernelspec": {
   "name": "python3",
   "display_name": "Python 3.9.7 64-bit (conda)"
  },
  "language_info": {
   "codemirror_mode": {
    "name": "ipython",
    "version": 3
   },
   "file_extension": ".py",
   "mimetype": "text/x-python",
   "name": "python",
   "nbconvert_exporter": "python",
   "pygments_lexer": "ipython3",
   "version": "3.9.7"
  },
  "vscode": {
   "interpreter": {
    "hash": "55b2846403a28aa9d7cdfb5546a934dc3f3840e4b3b5c4f634768746f125c2b3"
   }
  },
  "interpreter": {
   "hash": "aa66878e0267c431be3a1532a68403f84be0d773e0c0f07d463a0837320134ed"
  }
 },
 "nbformat": 4,
 "nbformat_minor": 2
}