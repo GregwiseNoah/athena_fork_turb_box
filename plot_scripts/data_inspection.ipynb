{
 "cells": [
  {
   "cell_type": "code",
   "execution_count": 81,
   "source": [
    "import numpy as np\n",
    "import yt\n",
    "import matplotlib.pyplot as plt"
   ],
   "outputs": [],
   "metadata": {}
  },
  {
   "cell_type": "code",
   "execution_count": 82,
   "source": [
    "CONST_pc  = 3.086e18\n",
    "CONST_yr  = 3.154e7\n",
    "CONST_amu = 1.66053886e-24\n",
    "CONST_kB  = 1.3806505e-16\n",
    "unit_length = CONST_pc*1e3  # 1 kpc\n",
    "unit_time   = CONST_yr*1e6  # 1 Myr\n",
    "unit_density = CONST_amu    # 1 mp/cm-3\n",
    "unit_velocity = unit_length/unit_time\n",
    "KELVIN = unit_velocity*unit_velocity*CONST_amu/CONST_kB\n",
    "\n",
    "g = 5/3\n",
    "T_floor = 10000.0\n",
    "T_ceil = 1e8\n",
    "\n",
    "X = 1.0\n",
    "Y = 0.0\n",
    "Z = 0.0\n",
    "\n",
    "mu = 1.0/(2.*X+ 3.*(1.-X-Z)/4.+ Z/2.)\n",
    "mue = 2.0/(1.0+X)\n",
    "muH = 1.0/X\n",
    "mH = 1.0"
   ],
   "outputs": [],
   "metadata": {}
  },
  {
   "cell_type": "code",
   "execution_count": 83,
   "source": [
    "from yt import derived_field\n",
    "\n",
    "@derived_field(name=\"temp\", units=\"code_length**3*code_pressure/code_mass\", sampling_type=\"cell\")\n",
    "def _temp(field, data):\n",
    "    return (data[\"gas\", \"pressure\"] / data[\"gas\", \"density\"]) * KELVIN * mu"
   ],
   "outputs": [
    {
     "output_type": "stream",
     "name": "stderr",
     "text": [
      "yt : [WARNING  ] 2021-12-20 16:05:22,196 Field ('gas', 'temp') already exists. To override use force_override=True.\n"
     ]
    }
   ],
   "metadata": {}
  },
  {
   "cell_type": "code",
   "execution_count": 84,
   "source": [
    "data_dir = \"../work_turb_cloud/\"\n",
    "# data_dir = \"../work_turb_cloud_Bfield/\"\n",
    "# data_dir = \"/afs/mpa/temp/hitesh/athena_plusplus_output/256^3box_16nd/\""
   ],
   "outputs": [],
   "metadata": {}
  },
  {
   "cell_type": "code",
   "execution_count": 85,
   "source": [
    "\n",
    "ds = yt.load(data_dir+\"Turb.out2.00009.athdf\")"
   ],
   "outputs": [
    {
     "output_type": "stream",
     "name": "stderr",
     "text": [
      "yt : [WARNING  ] 2021-12-20 16:05:22,314 Assuming 1.0 = 1.0 cm\n",
      "yt : [WARNING  ] 2021-12-20 16:05:22,315 Assuming 1.0 = 1.0 s\n",
      "yt : [WARNING  ] 2021-12-20 16:05:22,316 Assuming 1.0 = 1.0 g\n",
      "yt : [WARNING  ] 2021-12-20 16:05:22,317 Assuming 1.0 = 1.0 K\n",
      "yt : [INFO     ] 2021-12-20 16:05:22,327 Parameters: current_time              = 36.017446010392604\n",
      "yt : [INFO     ] 2021-12-20 16:05:22,329 Parameters: domain_dimensions         = [128 128 128]\n",
      "yt : [INFO     ] 2021-12-20 16:05:22,330 Parameters: domain_left_edge          = [-15. -15. -15.]\n",
      "yt : [INFO     ] 2021-12-20 16:05:22,332 Parameters: domain_right_edge         = [15. 15. 15.]\n",
      "yt : [INFO     ] 2021-12-20 16:05:22,333 Parameters: cosmological_simulation   = 0.0\n"
     ]
    }
   ],
   "metadata": {}
  },
  {
   "cell_type": "code",
   "execution_count": 86,
   "source": [
    "# p = yt.ProjectionPlot(ds,\"x\",(\"gas\",\"temp\"), weight_field=(\"gas\",\"density\"))\n",
    "# p.annotate_title(\"Temperature slice\")"
   ],
   "outputs": [],
   "metadata": {}
  },
  {
   "cell_type": "code",
   "execution_count": 87,
   "source": [
    "import hdf5_to_nparray as hn\n",
    "\n",
    "rho_arr, time = hn.hdf2arr_ds(ds, field=\"density\")\n",
    "prs_arr, time = hn.hdf2arr_ds(ds, field=\"pressure\")\n",
    "\n",
    "T_arr, time = hn.hdf2arr_ds(ds, field=\"temp\")\n",
    "\n",
    "v1_arr, time = hn.hdf2arr_ds(ds, field=\"vel1\")\n",
    "v2_arr, time = hn.hdf2arr_ds(ds, field=\"vel2\")\n",
    "v3_arr, time = hn.hdf2arr_ds(ds, field=\"vel3\")\n",
    "\n",
    "hist = np.histogram(T_arr,bins=1000)\n",
    "\n",
    "# print(hist)\n",
    "\n",
    "# print(np.shape(hist[0]))\n",
    "# print(np.shape(hist[1]))\n",
    "\n",
    "# np.min(T_arr)\n",
    "\n",
    "dT = np.roll(hist[1],-1) - hist[1]\n",
    "bin_center = (hist[1]+dT)[:-1]\n",
    "\n",
    "plt.figure()\n",
    "plt.yscale('log')\n",
    "plt.plot(bin_center,hist[0])"
   ],
   "outputs": [
    {
     "output_type": "execute_result",
     "data": {
      "text/plain": [
       "[<matplotlib.lines.Line2D at 0x7fc96f34f2e0>]"
      ]
     },
     "metadata": {},
     "execution_count": 87
    },
    {
     "output_type": "display_data",
     "data": {
      "image/png": "[encoded data removed]",
      "text/plain": [
       "<Figure size 432x288 with 1 Axes>"
      ]
     },
     "metadata": {
      "needs_background": "light"
     }
    }
   ],
   "metadata": {}
  },
  {
   "cell_type": "code",
   "execution_count": 90,
   "source": [
    "gamma = 5/3\n",
    "\n",
    "vel_mag = np.sqrt(v1_arr**2 + v2_arr**2 + v3_arr**2 )\n",
    "\n",
    "cs = np.sqrt(gamma*prs_arr/rho_arr)\n",
    "\n",
    "hist = np.histogram(vel_mag/cs,bins=1000)\n",
    "\n",
    "# print(hist)\n",
    "\n",
    "# print(np.shape(hist[0]))\n",
    "# print(np.shape(hist[1]))\n",
    "\n",
    "# np.min(T_arr)\n",
    "\n",
    "dT = np.roll(hist[1],-1) - hist[1]\n",
    "bin_center = (hist[1]+dT)[:-1]\n",
    "\n",
    "plt.figure()\n",
    "# plt.yscale('log')\n",
    "# plt.xscale('log')\n",
    "# plt.xlim(0.000000000001,10000)\n",
    "plt.plot(bin_center,hist[0])\n"
   ],
   "outputs": [
    {
     "output_type": "execute_result",
     "data": {
      "text/plain": [
       "[<matplotlib.lines.Line2D at 0x7fc96f14adf0>]"
      ]
     },
     "metadata": {},
     "execution_count": 90
    },
    {
     "output_type": "display_data",
     "data": {
      "image/png": "[encoded data removed]",
      "text/plain": [
       "<Figure size 432x288 with 1 Axes>"
      ]
     },
     "metadata": {
      "needs_background": "light"
     }
    }
   ],
   "metadata": {}
  },
  {
   "cell_type": "code",
   "execution_count": 89,
   "source": [
    "np.average(vel_mag/cs)"
   ],
   "outputs": [
    {
     "output_type": "execute_result",
     "data": {
      "text/plain": [
       "0.21215764851835123"
      ]
     },
     "metadata": {},
     "execution_count": 89
    }
   ],
   "metadata": {}
  },
  {
   "cell_type": "code",
   "execution_count": null,
   "source": [],
   "outputs": [],
   "metadata": {}
  }
 ],
 "metadata": {
  "orig_nbformat": 4,
  "language_info": {
   "name": "python",
   "version": "3.9.7",
   "mimetype": "text/x-python",
   "codemirror_mode": {
    "name": "ipython",
    "version": 3
   },
   "pygments_lexer": "ipython3",
   "nbconvert_exporter": "python",
   "file_extension": ".py"
  },
  "kernelspec": {
   "name": "python3",
   "display_name": "Python 3.9.7 64-bit (conda)"
  },
  "interpreter": {
   "hash": "aa66878e0267c431be3a1532a68403f84be0d773e0c0f07d463a0837320134ed"
  }
 },
 "nbformat": 4,
 "nbformat_minor": 2
}